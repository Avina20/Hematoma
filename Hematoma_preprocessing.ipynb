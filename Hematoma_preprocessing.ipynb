{
  "nbformat": 4,
  "nbformat_minor": 0,
  "metadata": {
    "colab": {
      "name": "Hematoma_preprocessing.ipynb",
      "provenance": [],
      "collapsed_sections": [],
      "authorship_tag": "ABX9TyOAVK7FhgFov/iKj9+85SUx",
      "include_colab_link": true
    },
    "kernelspec": {
      "name": "python3",
      "display_name": "Python 3"
    }
  },
  "cells": [
    {
      "cell_type": "markdown",
      "metadata": {
        "id": "view-in-github",
        "colab_type": "text"
      },
      "source": [
        "<a href=\"https://colab.research.google.com/github/Avina20/Hematoma/blob/master/Hematoma_preprocessing.ipynb\" target=\"_parent\"><img src=\"https://colab.research.google.com/assets/colab-badge.svg\" alt=\"Open In Colab\"/></a>"
      ]
    },
    {
      "cell_type": "code",
      "metadata": {
        "id": "O_Ry2VmpK7ba",
        "colab_type": "code",
        "colab": {}
      },
      "source": [
        "import tensorflow as tf"
      ],
      "execution_count": null,
      "outputs": []
    },
    {
      "cell_type": "code",
      "metadata": {
        "id": "rII62CEln7X5",
        "colab_type": "code",
        "colab": {
          "base_uri": "https://localhost:8080/",
          "height": 68
        },
        "outputId": "b839f355-599c-4212-d7ab-9dd905103ac3"
      },
      "source": [
        "import os\n",
        "from pathlib import Path\n",
        "import numpy as np\n",
        "import pandas as pd\n",
        "!pip install pillow==5.3.0\n",
        "!pip install scipy==1.2.1\n",
        "from scipy.misc import imread, imresize, imsave\n",
        "import nibabel as nib\n",
        "import matplotlib.pyplot as plt"
      ],
      "execution_count": null,
      "outputs": [
        {
          "output_type": "stream",
          "text": [
            "Requirement already satisfied: pillow==5.3.0 in /usr/local/lib/python3.6/dist-packages (5.3.0)\n",
            "Requirement already satisfied: scipy==1.2.1 in /usr/local/lib/python3.6/dist-packages (1.2.1)\n",
            "Requirement already satisfied: numpy>=1.8.2 in /usr/local/lib/python3.6/dist-packages (from scipy==1.2.1) (1.18.5)\n"
          ],
          "name": "stdout"
        }
      ]
    },
    {
      "cell_type": "code",
      "metadata": {
        "id": "1MmNVKxNp6NY",
        "colab_type": "code",
        "colab": {}
      },
      "source": [
        "def window_ct (ct_scan, w_level=40, w_width=120):\n",
        "    w_min = w_level - w_width / 2\n",
        "    w_max = w_level + w_width / 2\n",
        "    num_slices=ct_scan.shape[2]\n",
        "    for s in range(num_slices):\n",
        "        slice_s = ct_scan[:,:,s]\n",
        "        slice_s = (slice_s - w_min)*(255/(w_max-w_min)) #or slice_s = (slice_s - (w_level-(w_width/2)))*(255/(w_width))\n",
        "        slice_s[slice_s < 0]=0\n",
        "        slice_s[slice_s > 255] = 255\n",
        "        #slice_s=np.rot90(slice_s)\n",
        "        ct_scan[:,:,s] = slice_s\n",
        "\n",
        "    return ct_scan"
      ],
      "execution_count": null,
      "outputs": []
    },
    {
      "cell_type": "code",
      "metadata": {
        "id": "E_2w7pb0qJgW",
        "colab_type": "code",
        "colab": {}
      },
      "source": [
        "numSubj = 82\n",
        "new_size = (512, 512)\n",
        "window_specs=[40,120]"
      ],
      "execution_count": null,
      "outputs": []
    },
    {
      "cell_type": "code",
      "metadata": {
        "id": "-W-a1ElGqPfp",
        "colab_type": "code",
        "colab": {}
      },
      "source": [
        "currentDir = Path(os.getcwd())\n",
        "datasetDir = str(Path(currentDir))"
      ],
      "execution_count": null,
      "outputs": []
    },
    {
      "cell_type": "code",
      "metadata": {
        "id": "AtYLY3I1q7XO",
        "colab_type": "code",
        "colab": {}
      },
      "source": [
        "# Reading labels\n",
        "hemorrhage_diagnosis_df = pd.read_csv(\n",
        "    Path(currentDir, 'hemorrhage_diagnosis_raw_ct.csv'))\n",
        "hemorrhage_diagnosis_array = hemorrhage_diagnosis_df._get_values"
      ],
      "execution_count": null,
      "outputs": []
    },
    {
      "cell_type": "code",
      "metadata": {
        "id": "WBJKxS5bq-3g",
        "colab_type": "code",
        "colab": {}
      },
      "source": [
        "# reading images\n",
        "train_path = Path('data')\n",
        "image_path = train_path / 'image'\n",
        "label_path = train_path / 'label'\n",
        "if not train_path.exists():\n",
        "    train_path.mkdir()\n",
        "    image_path.mkdir()\n",
        "    label_path.mkdir()"
      ],
      "execution_count": null,
      "outputs": []
    },
    {
      "cell_type": "code",
      "metadata": {
        "id": "iNji6wfSrTHo",
        "colab_type": "code",
        "colab": {
          "base_uri": "https://localhost:8080/",
          "height": 34
        },
        "outputId": "2752182e-cb70-46cc-9859-87fc22bd84bb"
      },
      "source": [
        "import PIL\n",
        "print(PIL.PILLOW_VERSION)"
      ],
      "execution_count": null,
      "outputs": [
        {
          "output_type": "stream",
          "text": [
            "5.3.0\n"
          ],
          "name": "stdout"
        }
      ]
    },
    {
      "cell_type": "code",
      "metadata": {
        "id": "V6D60ve7xGiV",
        "colab_type": "code",
        "colab": {}
      },
      "source": [
        "counterI = 0\n",
        "for sNo in range(0+49, numSubj+49):\n",
        "    if sNo>58 and sNo<66: #no raw data were available for these subjects\n",
        "        next\n",
        "    else:\n",
        "        #Loading the CT scan\n",
        "        ct_dir_subj = Path(datasetDir,'ct_scans', \"{0:0=3d}.nii\".format(sNo))\n",
        "        ct_scan_nifti = nib.load(str(ct_dir_subj))\n",
        "        ct_scan = ct_scan_nifti.get_data()\n",
        "        ct_scan = window_ct(ct_scan, window_specs[0], window_specs[1])\n",
        "\n",
        "        #Loading the masks\n",
        "        #masks_dir_subj = Path(datasetDir,'masks', \"{0:0=3d}.nii\".format(sNo))\n",
        "        #masks_nifti = nib.load(str(masks_dir_subj))\n",
        "        #masks = masks_nifti.get_data()\n",
        "        idx = hemorrhage_diagnosis_array[:, 0] == sNo\n",
        "        sliceNos = hemorrhage_diagnosis_array[idx, 1]\n",
        "        NoHemorrhage = hemorrhage_diagnosis_array[idx, 7]\n",
        "        #if sliceNos.size!=ct_scan.shape[2]:\n",
        "            #print('Warning: the number of annotated slices does not equal the number of slices in NIFTI file!')\n",
        "\n",
        "        for sliceI in range(0, sliceNos.size):\n",
        "            # Saving the a given CT slice\n",
        "            x = imresize(ct_scan[:,:,sliceI], new_size)\n",
        "            imsave(image_path / (str(counterI) + '.png'), x)\n",
        "\n",
        "            # Saving the segmentation for a given slice\n",
        "            #segment_path = Path(masks_dir_subj,str(sliceNos[sliceI]) + '_HGE_Seg.jpg')\n",
        "            #x = imresize(masks[:,:,sliceI], new_size)\n",
        "            #imsave(label_path / (str(counterI) + '.png'), x)\n",
        "            counterI = counterI+1"
      ],
      "execution_count": null,
      "outputs": []
    },
    {
      "cell_type": "code",
      "metadata": {
        "id": "SIyikFzrsdqf",
        "colab_type": "code",
        "colab": {}
      },
      "source": [
        "from google.colab import files"
      ],
      "execution_count": null,
      "outputs": []
    },
    {
      "cell_type": "code",
      "metadata": {
        "id": "8xfdEl1dYa8K",
        "colab_type": "code",
        "colab": {}
      },
      "source": [
        "!zip -r /content/img.zip /content/data/image\n",
        "files.download(\"/content/img.zip\")"
      ],
      "execution_count": null,
      "outputs": []
    },
    {
      "cell_type": "code",
      "metadata": {
        "id": "dC8kgcCyZrL3",
        "colab_type": "code",
        "colab": {}
      },
      "source": [
        "!zip -r /content/label.zip /content/data/label\n",
        "files.download(\"/content/label.zip\")"
      ],
      "execution_count": null,
      "outputs": []
    }
  ]
}